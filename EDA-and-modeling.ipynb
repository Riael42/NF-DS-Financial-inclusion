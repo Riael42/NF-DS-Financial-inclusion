{
 "cells": [
  {
   "cell_type": "code",
   "execution_count": 24,
   "metadata": {},
   "outputs": [],
   "source": [
    "# dataframe and plotting\n",
    "import pandas as pd\n",
    "import numpy as np\n",
    "import seaborn as sns\n",
    "import matplotlib.pyplot as plt\n",
    "\n",
    "# machine learning\n",
    "from sklearn.model_selection import train_test_split\n",
    "from sklearn.linear_model import LogisticRegression\n",
    "from sklearn.metrics import accuracy_score\n",
    "from sklearn.metrics import confusion_matrix, classification_report\n",
    "from sklearn.ensemble import RandomForestClassifier\n",
    "from sklearn.model_selection import RandomizedSearchCV\n",
    "from sklearn.tree import DecisionTreeClassifier"
   ]
  },
  {
   "cell_type": "code",
   "execution_count": 4,
   "metadata": {},
   "outputs": [
    {
     "name": "stdout",
     "output_type": "stream",
     "text": [
      "train data shape : (23524, 13)\n",
      "test data shape : (10086, 12)\n",
      "<class 'pandas.core.frame.DataFrame'>\n",
      "RangeIndex: 23524 entries, 0 to 23523\n",
      "Data columns (total 13 columns):\n",
      " #   Column                  Non-Null Count  Dtype \n",
      "---  ------                  --------------  ----- \n",
      " 0   country                 23524 non-null  object\n",
      " 1   year                    23524 non-null  int64 \n",
      " 2   uniqueid                23524 non-null  object\n",
      " 3   bank_account            23524 non-null  object\n",
      " 4   location_type           23524 non-null  object\n",
      " 5   cellphone_access        23524 non-null  object\n",
      " 6   household_size          23524 non-null  int64 \n",
      " 7   age_of_respondent       23524 non-null  int64 \n",
      " 8   gender_of_respondent    23524 non-null  object\n",
      " 9   relationship_with_head  23524 non-null  object\n",
      " 10  marital_status          23524 non-null  object\n",
      " 11  education_level         23524 non-null  object\n",
      " 12  job_type                23524 non-null  object\n",
      "dtypes: int64(3), object(10)\n",
      "memory usage: 2.3+ MB\n"
     ]
    },
    {
     "data": {
      "text/plain": [
       "array([[<Axes: title={'center': 'year'}>,\n",
       "        <Axes: title={'center': 'household_size'}>],\n",
       "       [<Axes: title={'center': 'age_of_respondent'}>, <Axes: >]],\n",
       "      dtype=object)"
      ]
     },
     "execution_count": 4,
     "metadata": {},
     "output_type": "execute_result"
    },
    {
     "data": {
      "image/png": "[encoded data removed]",
      "text/plain": [
       "<Figure size 640x480 with 4 Axes>"
      ]
     },
     "metadata": {},
     "output_type": "display_data"
    }
   ],
   "source": [
    "train = pd.read_csv('data/Train.csv')\n",
    "test = pd.read_csv('data/Test.csv')\n",
    "ss = pd.read_csv('data/SampleSubmission.csv')\n",
    "variables = pd.read_csv('data/VariableDefinitions.csv')\n",
    "print('train data shape :', train.shape)\n",
    "print('test data shape :', test.shape)\n",
    "train.head()\n",
    "train.info()\n",
    "train.describe()\n",
    "train.isnull().sum()\n",
    "train.hist()\n",
    "\n",
    "#train = pd.get_dummies(train, columns=['relationship_with_head'])\n",
    "#train = pd.get_dummies(train, columns=['marital_status'])\n",
    "#train = pd.get_dummies(train, columns=['education_level'])\n",
    "#train = pd.get_dummies(train, columns=['job_type'])"
   ]
  },
  {
   "cell_type": "code",
   "execution_count": 5,
   "metadata": {},
   "outputs": [
    {
     "data": {
      "text/plain": [
       "Index(['country', 'year', 'uniqueid', 'bank_account', 'location_type',\n",
       "       'cellphone_access', 'household_size', 'age_of_respondent',\n",
       "       'gender_of_respondent', 'relationship_with_head', 'marital_status',\n",
       "       'education_level', 'job_type'],\n",
       "      dtype='object')"
      ]
     },
     "execution_count": 5,
     "metadata": {},
     "output_type": "execute_result"
    }
   ],
   "source": [
    "train.columns"
   ]
  },
  {
   "cell_type": "code",
   "execution_count": 6,
   "metadata": {},
   "outputs": [
    {
     "data": {
      "text/plain": [
       "array(['Kenya', 'Rwanda', 'Tanzania', 'Uganda'], dtype=object)"
      ]
     },
     "execution_count": 6,
     "metadata": {},
     "output_type": "execute_result"
    }
   ],
   "source": [
    "train.country.unique()"
   ]
  },
  {
   "cell_type": "code",
   "execution_count": 7,
   "metadata": {},
   "outputs": [
    {
     "data": {
      "text/plain": [
       "array([2018, 2016, 2017])"
      ]
     },
     "execution_count": 7,
     "metadata": {},
     "output_type": "execute_result"
    }
   ],
   "source": [
    "train.year.unique()"
   ]
  },
  {
   "cell_type": "code",
   "execution_count": 8,
   "metadata": {},
   "outputs": [
    {
     "data": {
      "text/plain": [
       "array(['Rural', 'Urban'], dtype=object)"
      ]
     },
     "execution_count": 8,
     "metadata": {},
     "output_type": "execute_result"
    }
   ],
   "source": [
    "train.location_type.unique()"
   ]
  },
  {
   "cell_type": "code",
   "execution_count": 9,
   "metadata": {},
   "outputs": [
    {
     "data": {
      "text/plain": [
       "array(['Yes', 'No'], dtype=object)"
      ]
     },
     "execution_count": 9,
     "metadata": {},
     "output_type": "execute_result"
    }
   ],
   "source": [
    "train.cellphone_access.unique()"
   ]
  },
  {
   "cell_type": "code",
   "execution_count": 10,
   "metadata": {},
   "outputs": [
    {
     "data": {
      "text/plain": [
       "array([ 3,  5,  8,  7,  1,  6,  4, 10,  2, 11,  9, 12, 16, 15, 13, 14, 21,\n",
       "       18, 17, 20])"
      ]
     },
     "execution_count": 10,
     "metadata": {},
     "output_type": "execute_result"
    }
   ],
   "source": [
    "train.household_size.unique()"
   ]
  },
  {
   "cell_type": "code",
   "execution_count": 11,
   "metadata": {},
   "outputs": [
    {
     "data": {
      "text/plain": [
       "array([ 24,  70,  26,  34,  32,  42,  54,  76,  40,  69,  64,  31,  38,\n",
       "        47,  27,  48,  25,  21,  18,  22,  58,  55,  62,  29,  35,  45,\n",
       "        67,  19,  80,  66,  50,  33,  28,  51,  16,  17,  30,  37,  59,\n",
       "        65,  46,  56,  52,  23,  43,  49,  44,  72,  53,  63,  39,  81,\n",
       "        78,  36,  20,  60,  95,  71,  57,  85,  68,  41,  61,  75,  86,\n",
       "        73,  93,  74,  88,  90,  77,  84,  82,  89,  79,  83,  94,  87,\n",
       "        92,  91,  98,  97,  96,  99, 100])"
      ]
     },
     "execution_count": 11,
     "metadata": {},
     "output_type": "execute_result"
    }
   ],
   "source": [
    "train.age_of_respondent.unique()"
   ]
  },
  {
   "cell_type": "code",
   "execution_count": 12,
   "metadata": {},
   "outputs": [
    {
     "data": {
      "text/plain": [
       "array(['Female', 'Male'], dtype=object)"
      ]
     },
     "execution_count": 12,
     "metadata": {},
     "output_type": "execute_result"
    }
   ],
   "source": [
    "train.gender_of_respondent.unique()"
   ]
  },
  {
   "cell_type": "code",
   "execution_count": 13,
   "metadata": {},
   "outputs": [
    {
     "data": {
      "text/plain": [
       "array(['Spouse', 'Head of Household', 'Other relative', 'Child', 'Parent',\n",
       "       'Other non-relatives'], dtype=object)"
      ]
     },
     "execution_count": 13,
     "metadata": {},
     "output_type": "execute_result"
    }
   ],
   "source": [
    "train.relationship_with_head.unique()"
   ]
  },
  {
   "cell_type": "code",
   "execution_count": 14,
   "metadata": {},
   "outputs": [
    {
     "data": {
      "text/plain": [
       "array(['Married/Living together', 'Widowed', 'Single/Never Married',\n",
       "       'Divorced/Seperated', 'Dont know'], dtype=object)"
      ]
     },
     "execution_count": 14,
     "metadata": {},
     "output_type": "execute_result"
    }
   ],
   "source": [
    "train.marital_status.unique()"
   ]
  },
  {
   "cell_type": "code",
   "execution_count": 15,
   "metadata": {},
   "outputs": [
    {
     "data": {
      "text/plain": [
       "array(['Secondary education', 'No formal education',\n",
       "       'Vocational/Specialised training', 'Primary education',\n",
       "       'Tertiary education', 'Other/Dont know/RTA'], dtype=object)"
      ]
     },
     "execution_count": 15,
     "metadata": {},
     "output_type": "execute_result"
    }
   ],
   "source": [
    "train.education_level.unique()"
   ]
  },
  {
   "cell_type": "code",
   "execution_count": 16,
   "metadata": {},
   "outputs": [
    {
     "data": {
      "text/plain": [
       "array(['Self employed', 'Government Dependent',\n",
       "       'Formally employed Private', 'Informally employed',\n",
       "       'Formally employed Government', 'Farming and Fishing',\n",
       "       'Remittance Dependent', 'Other Income',\n",
       "       'Dont Know/Refuse to answer', 'No Income'], dtype=object)"
      ]
     },
     "execution_count": 16,
     "metadata": {},
     "output_type": "execute_result"
    }
   ],
   "source": [
    "train.job_type.unique()"
   ]
  },
  {
   "cell_type": "code",
   "execution_count": 17,
   "metadata": {},
   "outputs": [
    {
     "data": {
      "text/html": [
       "<div>\n",
       "<style scoped>\n",
       "    .dataframe tbody tr th:only-of-type {\n",
       "        vertical-align: middle;\n",
       "    }\n",
       "\n",
       "    .dataframe tbody tr th {\n",
       "        vertical-align: top;\n",
       "    }\n",
       "\n",
       "    .dataframe thead th {\n",
       "        text-align: right;\n",
       "    }\n",
       "</style>\n",
       "<table border=\"1\" class=\"dataframe\">\n",
       "  <thead>\n",
       "    <tr style=\"text-align: right;\">\n",
       "      <th></th>\n",
       "      <th>country</th>\n",
       "      <th>year</th>\n",
       "      <th>uniqueid</th>\n",
       "      <th>bank_account</th>\n",
       "      <th>location_type</th>\n",
       "      <th>cellphone_access</th>\n",
       "      <th>household_size</th>\n",
       "      <th>age_of_respondent</th>\n",
       "      <th>gender_of_respondent</th>\n",
       "      <th>relationship_with_head</th>\n",
       "      <th>marital_status</th>\n",
       "      <th>education_level</th>\n",
       "      <th>job_type</th>\n",
       "    </tr>\n",
       "  </thead>\n",
       "  <tbody>\n",
       "    <tr>\n",
       "      <th>1156</th>\n",
       "      <td>Kenya</td>\n",
       "      <td>2018</td>\n",
       "      <td>uniqueid_1157</td>\n",
       "      <td>No</td>\n",
       "      <td>Rural</td>\n",
       "      <td>Yes</td>\n",
       "      <td>1</td>\n",
       "      <td>50</td>\n",
       "      <td>Male</td>\n",
       "      <td>Head of Household</td>\n",
       "      <td>Dont know</td>\n",
       "      <td>Primary education</td>\n",
       "      <td>Informally employed</td>\n",
       "    </tr>\n",
       "    <tr>\n",
       "      <th>2262</th>\n",
       "      <td>Kenya</td>\n",
       "      <td>2018</td>\n",
       "      <td>uniqueid_2263</td>\n",
       "      <td>No</td>\n",
       "      <td>Urban</td>\n",
       "      <td>Yes</td>\n",
       "      <td>1</td>\n",
       "      <td>77</td>\n",
       "      <td>Male</td>\n",
       "      <td>Head of Household</td>\n",
       "      <td>Dont know</td>\n",
       "      <td>Primary education</td>\n",
       "      <td>Remittance Dependent</td>\n",
       "    </tr>\n",
       "    <tr>\n",
       "      <th>2609</th>\n",
       "      <td>Kenya</td>\n",
       "      <td>2018</td>\n",
       "      <td>uniqueid_2610</td>\n",
       "      <td>Yes</td>\n",
       "      <td>Urban</td>\n",
       "      <td>Yes</td>\n",
       "      <td>2</td>\n",
       "      <td>34</td>\n",
       "      <td>Male</td>\n",
       "      <td>Head of Household</td>\n",
       "      <td>Dont know</td>\n",
       "      <td>Secondary education</td>\n",
       "      <td>Formally employed Private</td>\n",
       "    </tr>\n",
       "    <tr>\n",
       "      <th>2781</th>\n",
       "      <td>Kenya</td>\n",
       "      <td>2018</td>\n",
       "      <td>uniqueid_2782</td>\n",
       "      <td>No</td>\n",
       "      <td>Rural</td>\n",
       "      <td>Yes</td>\n",
       "      <td>4</td>\n",
       "      <td>35</td>\n",
       "      <td>Male</td>\n",
       "      <td>Child</td>\n",
       "      <td>Dont know</td>\n",
       "      <td>No formal education</td>\n",
       "      <td>Farming and Fishing</td>\n",
       "    </tr>\n",
       "    <tr>\n",
       "      <th>2981</th>\n",
       "      <td>Kenya</td>\n",
       "      <td>2018</td>\n",
       "      <td>uniqueid_2982</td>\n",
       "      <td>No</td>\n",
       "      <td>Urban</td>\n",
       "      <td>No</td>\n",
       "      <td>1</td>\n",
       "      <td>58</td>\n",
       "      <td>Male</td>\n",
       "      <td>Head of Household</td>\n",
       "      <td>Dont know</td>\n",
       "      <td>Primary education</td>\n",
       "      <td>Informally employed</td>\n",
       "    </tr>\n",
       "    <tr>\n",
       "      <th>4778</th>\n",
       "      <td>Kenya</td>\n",
       "      <td>2018</td>\n",
       "      <td>uniqueid_4779</td>\n",
       "      <td>No</td>\n",
       "      <td>Rural</td>\n",
       "      <td>Yes</td>\n",
       "      <td>3</td>\n",
       "      <td>25</td>\n",
       "      <td>Male</td>\n",
       "      <td>Other relative</td>\n",
       "      <td>Dont know</td>\n",
       "      <td>Primary education</td>\n",
       "      <td>Self employed</td>\n",
       "    </tr>\n",
       "    <tr>\n",
       "      <th>5033</th>\n",
       "      <td>Kenya</td>\n",
       "      <td>2018</td>\n",
       "      <td>uniqueid_5034</td>\n",
       "      <td>Yes</td>\n",
       "      <td>Urban</td>\n",
       "      <td>Yes</td>\n",
       "      <td>1</td>\n",
       "      <td>33</td>\n",
       "      <td>Male</td>\n",
       "      <td>Head of Household</td>\n",
       "      <td>Dont know</td>\n",
       "      <td>Primary education</td>\n",
       "      <td>Self employed</td>\n",
       "    </tr>\n",
       "    <tr>\n",
       "      <th>5295</th>\n",
       "      <td>Kenya</td>\n",
       "      <td>2018</td>\n",
       "      <td>uniqueid_5296</td>\n",
       "      <td>No</td>\n",
       "      <td>Urban</td>\n",
       "      <td>Yes</td>\n",
       "      <td>8</td>\n",
       "      <td>36</td>\n",
       "      <td>Female</td>\n",
       "      <td>Head of Household</td>\n",
       "      <td>Dont know</td>\n",
       "      <td>Primary education</td>\n",
       "      <td>Informally employed</td>\n",
       "    </tr>\n",
       "  </tbody>\n",
       "</table>\n",
       "</div>"
      ],
      "text/plain": [
       "     country  year       uniqueid bank_account location_type cellphone_access   \n",
       "1156   Kenya  2018  uniqueid_1157           No         Rural              Yes  \\\n",
       "2262   Kenya  2018  uniqueid_2263           No         Urban              Yes   \n",
       "2609   Kenya  2018  uniqueid_2610          Yes         Urban              Yes   \n",
       "2781   Kenya  2018  uniqueid_2782           No         Rural              Yes   \n",
       "2981   Kenya  2018  uniqueid_2982           No         Urban               No   \n",
       "4778   Kenya  2018  uniqueid_4779           No         Rural              Yes   \n",
       "5033   Kenya  2018  uniqueid_5034          Yes         Urban              Yes   \n",
       "5295   Kenya  2018  uniqueid_5296           No         Urban              Yes   \n",
       "\n",
       "      household_size  age_of_respondent gender_of_respondent   \n",
       "1156               1                 50                 Male  \\\n",
       "2262               1                 77                 Male   \n",
       "2609               2                 34                 Male   \n",
       "2781               4                 35                 Male   \n",
       "2981               1                 58                 Male   \n",
       "4778               3                 25                 Male   \n",
       "5033               1                 33                 Male   \n",
       "5295               8                 36               Female   \n",
       "\n",
       "     relationship_with_head marital_status      education_level   \n",
       "1156      Head of Household      Dont know    Primary education  \\\n",
       "2262      Head of Household      Dont know    Primary education   \n",
       "2609      Head of Household      Dont know  Secondary education   \n",
       "2781                  Child      Dont know  No formal education   \n",
       "2981      Head of Household      Dont know    Primary education   \n",
       "4778         Other relative      Dont know    Primary education   \n",
       "5033      Head of Household      Dont know    Primary education   \n",
       "5295      Head of Household      Dont know    Primary education   \n",
       "\n",
       "                       job_type  \n",
       "1156        Informally employed  \n",
       "2262       Remittance Dependent  \n",
       "2609  Formally employed Private  \n",
       "2781        Farming and Fishing  \n",
       "2981        Informally employed  \n",
       "4778              Self employed  \n",
       "5033              Self employed  \n",
       "5295        Informally employed  "
      ]
     },
     "execution_count": 17,
     "metadata": {},
     "output_type": "execute_result"
    }
   ],
   "source": [
    "train[train[\"marital_status\"] == \"Dont know\"]"
   ]
  },
  {
   "cell_type": "code",
   "execution_count": 18,
   "metadata": {},
   "outputs": [],
   "source": [
    "#todo: Drop the 8 people with marital status dont know \n",
    "# "
   ]
  },
  {
   "cell_type": "code",
   "execution_count": 19,
   "metadata": {},
   "outputs": [
    {
     "data": {
      "text/html": [
       "<div>\n",
       "<style scoped>\n",
       "    .dataframe tbody tr th:only-of-type {\n",
       "        vertical-align: middle;\n",
       "    }\n",
       "\n",
       "    .dataframe tbody tr th {\n",
       "        vertical-align: top;\n",
       "    }\n",
       "\n",
       "    .dataframe thead th {\n",
       "        text-align: right;\n",
       "    }\n",
       "</style>\n",
       "<table border=\"1\" class=\"dataframe\">\n",
       "  <thead>\n",
       "    <tr style=\"text-align: right;\">\n",
       "      <th></th>\n",
       "      <th>bank_account</th>\n",
       "      <th>location_type</th>\n",
       "      <th>cellphone_access</th>\n",
       "      <th>household_size</th>\n",
       "      <th>age_of_respondent</th>\n",
       "      <th>gender_of_respondent</th>\n",
       "      <th>relationship_with_head_Child</th>\n",
       "      <th>relationship_with_head_Head of Household</th>\n",
       "      <th>relationship_with_head_Other non-relatives</th>\n",
       "      <th>relationship_with_head_Other relative</th>\n",
       "      <th>...</th>\n",
       "      <th>job_type_Dont Know/Refuse to answer</th>\n",
       "      <th>job_type_Farming and Fishing</th>\n",
       "      <th>job_type_Formally employed Government</th>\n",
       "      <th>job_type_Formally employed Private</th>\n",
       "      <th>job_type_Government Dependent</th>\n",
       "      <th>job_type_Informally employed</th>\n",
       "      <th>job_type_No Income</th>\n",
       "      <th>job_type_Other Income</th>\n",
       "      <th>job_type_Remittance Dependent</th>\n",
       "      <th>job_type_Self employed</th>\n",
       "    </tr>\n",
       "  </thead>\n",
       "  <tbody>\n",
       "    <tr>\n",
       "      <th>0</th>\n",
       "      <td>1</td>\n",
       "      <td>0</td>\n",
       "      <td>1</td>\n",
       "      <td>3</td>\n",
       "      <td>24</td>\n",
       "      <td>1</td>\n",
       "      <td>False</td>\n",
       "      <td>False</td>\n",
       "      <td>False</td>\n",
       "      <td>False</td>\n",
       "      <td>...</td>\n",
       "      <td>False</td>\n",
       "      <td>False</td>\n",
       "      <td>False</td>\n",
       "      <td>False</td>\n",
       "      <td>False</td>\n",
       "      <td>False</td>\n",
       "      <td>False</td>\n",
       "      <td>False</td>\n",
       "      <td>False</td>\n",
       "      <td>True</td>\n",
       "    </tr>\n",
       "    <tr>\n",
       "      <th>1</th>\n",
       "      <td>0</td>\n",
       "      <td>0</td>\n",
       "      <td>0</td>\n",
       "      <td>5</td>\n",
       "      <td>70</td>\n",
       "      <td>1</td>\n",
       "      <td>False</td>\n",
       "      <td>True</td>\n",
       "      <td>False</td>\n",
       "      <td>False</td>\n",
       "      <td>...</td>\n",
       "      <td>False</td>\n",
       "      <td>False</td>\n",
       "      <td>False</td>\n",
       "      <td>False</td>\n",
       "      <td>True</td>\n",
       "      <td>False</td>\n",
       "      <td>False</td>\n",
       "      <td>False</td>\n",
       "      <td>False</td>\n",
       "      <td>False</td>\n",
       "    </tr>\n",
       "    <tr>\n",
       "      <th>2</th>\n",
       "      <td>1</td>\n",
       "      <td>1</td>\n",
       "      <td>1</td>\n",
       "      <td>5</td>\n",
       "      <td>26</td>\n",
       "      <td>0</td>\n",
       "      <td>False</td>\n",
       "      <td>False</td>\n",
       "      <td>False</td>\n",
       "      <td>True</td>\n",
       "      <td>...</td>\n",
       "      <td>False</td>\n",
       "      <td>False</td>\n",
       "      <td>False</td>\n",
       "      <td>False</td>\n",
       "      <td>False</td>\n",
       "      <td>False</td>\n",
       "      <td>False</td>\n",
       "      <td>False</td>\n",
       "      <td>False</td>\n",
       "      <td>True</td>\n",
       "    </tr>\n",
       "    <tr>\n",
       "      <th>3</th>\n",
       "      <td>0</td>\n",
       "      <td>0</td>\n",
       "      <td>1</td>\n",
       "      <td>5</td>\n",
       "      <td>34</td>\n",
       "      <td>1</td>\n",
       "      <td>False</td>\n",
       "      <td>True</td>\n",
       "      <td>False</td>\n",
       "      <td>False</td>\n",
       "      <td>...</td>\n",
       "      <td>False</td>\n",
       "      <td>False</td>\n",
       "      <td>False</td>\n",
       "      <td>True</td>\n",
       "      <td>False</td>\n",
       "      <td>False</td>\n",
       "      <td>False</td>\n",
       "      <td>False</td>\n",
       "      <td>False</td>\n",
       "      <td>False</td>\n",
       "    </tr>\n",
       "    <tr>\n",
       "      <th>4</th>\n",
       "      <td>0</td>\n",
       "      <td>1</td>\n",
       "      <td>0</td>\n",
       "      <td>8</td>\n",
       "      <td>26</td>\n",
       "      <td>0</td>\n",
       "      <td>True</td>\n",
       "      <td>False</td>\n",
       "      <td>False</td>\n",
       "      <td>False</td>\n",
       "      <td>...</td>\n",
       "      <td>False</td>\n",
       "      <td>False</td>\n",
       "      <td>False</td>\n",
       "      <td>False</td>\n",
       "      <td>False</td>\n",
       "      <td>True</td>\n",
       "      <td>False</td>\n",
       "      <td>False</td>\n",
       "      <td>False</td>\n",
       "      <td>False</td>\n",
       "    </tr>\n",
       "  </tbody>\n",
       "</table>\n",
       "<p>5 rows × 33 columns</p>\n",
       "</div>"
      ],
      "text/plain": [
       "   bank_account  location_type  cellphone_access  household_size   \n",
       "0             1              0                 1               3  \\\n",
       "1             0              0                 0               5   \n",
       "2             1              1                 1               5   \n",
       "3             0              0                 1               5   \n",
       "4             0              1                 0               8   \n",
       "\n",
       "   age_of_respondent  gender_of_respondent  relationship_with_head_Child   \n",
       "0                 24                     1                         False  \\\n",
       "1                 70                     1                         False   \n",
       "2                 26                     0                         False   \n",
       "3                 34                     1                         False   \n",
       "4                 26                     0                          True   \n",
       "\n",
       "   relationship_with_head_Head of Household   \n",
       "0                                     False  \\\n",
       "1                                      True   \n",
       "2                                     False   \n",
       "3                                      True   \n",
       "4                                     False   \n",
       "\n",
       "   relationship_with_head_Other non-relatives   \n",
       "0                                       False  \\\n",
       "1                                       False   \n",
       "2                                       False   \n",
       "3                                       False   \n",
       "4                                       False   \n",
       "\n",
       "   relationship_with_head_Other relative  ...   \n",
       "0                                  False  ...  \\\n",
       "1                                  False  ...   \n",
       "2                                   True  ...   \n",
       "3                                  False  ...   \n",
       "4                                  False  ...   \n",
       "\n",
       "   job_type_Dont Know/Refuse to answer  job_type_Farming and Fishing   \n",
       "0                                False                         False  \\\n",
       "1                                False                         False   \n",
       "2                                False                         False   \n",
       "3                                False                         False   \n",
       "4                                False                         False   \n",
       "\n",
       "   job_type_Formally employed Government  job_type_Formally employed Private   \n",
       "0                                  False                               False  \\\n",
       "1                                  False                               False   \n",
       "2                                  False                               False   \n",
       "3                                  False                                True   \n",
       "4                                  False                               False   \n",
       "\n",
       "   job_type_Government Dependent  job_type_Informally employed   \n",
       "0                          False                         False  \\\n",
       "1                           True                         False   \n",
       "2                          False                         False   \n",
       "3                          False                         False   \n",
       "4                          False                          True   \n",
       "\n",
       "   job_type_No Income  job_type_Other Income  job_type_Remittance Dependent   \n",
       "0               False                  False                          False  \\\n",
       "1               False                  False                          False   \n",
       "2               False                  False                          False   \n",
       "3               False                  False                          False   \n",
       "4               False                  False                          False   \n",
       "\n",
       "   job_type_Self employed  \n",
       "0                    True  \n",
       "1                   False  \n",
       "2                    True  \n",
       "3                   False  \n",
       "4                   False  \n",
       "\n",
       "[5 rows x 33 columns]"
      ]
     },
     "execution_count": 19,
     "metadata": {},
     "output_type": "execute_result"
    }
   ],
   "source": [
    "train.columns\n",
    "\n",
    "newtrain = train.drop(['uniqueid', 'year', 'country'], axis=1) #drop uniqueid and year = useless, drop country = bias\n",
    "\n",
    "newtrain = pd.get_dummies(newtrain, columns=['relationship_with_head'])\n",
    "newtrain = pd.get_dummies(newtrain, columns=['marital_status'])\n",
    "newtrain = pd.get_dummies(newtrain, columns=['education_level'])\n",
    "newtrain = pd.get_dummies(newtrain, columns=['job_type'])\n",
    "newtrain['location_type'] = newtrain['location_type'].map({'Rural': 0, 'Urban': 1})\n",
    "newtrain['cellphone_access'] = newtrain['cellphone_access'].map({'No': 0, 'Yes': 1})\n",
    "newtrain['bank_account'] = newtrain['bank_account'].map({'No': 0, 'Yes': 1})\n",
    "newtrain['gender_of_respondent'] = newtrain['gender_of_respondent'].map({'Male': 0, 'Female': 1})\n",
    "\n",
    "\n",
    "newtrain.head()\n"
   ]
  },
  {
   "cell_type": "code",
   "execution_count": 28,
   "metadata": {},
   "outputs": [
    {
     "name": "stdout",
     "output_type": "stream",
     "text": [
      "Accuracy on train data:  0.8836282480471863\n",
      "Accuracy on test data:  0.8843783209351753\n",
      "              precision    recall  f1-score   support\n",
      "\n",
      "           0       0.90      0.98      0.94      4043\n",
      "           1       0.69      0.33      0.44       662\n",
      "\n",
      "    accuracy                           0.88      4705\n",
      "   macro avg       0.79      0.65      0.69      4705\n",
      "weighted avg       0.87      0.88      0.87      4705\n",
      "\n"
     ]
    }
   ],
   "source": [
    "#It is a yes/no question of classification so logistic regression makes sense \n",
    "\n",
    "X = newtrain.drop('bank_account', axis=1)\n",
    "y = newtrain['bank_account']\n",
    "\n",
    "X_train, X_test, y_train, y_test = train_test_split(X, y, test_size=0.2, random_state=42, stratify=y)\n",
    "\n",
    "\n",
    "# penalty: l1 shrinks coefficients of less important features towards zero or even zero\n",
    "# use it if we believe some features are irrelevant\n",
    "# l2 shrinks all coefficients towards zero but not necessarily zero\n",
    "# reduces overall magnitude of coefficients and prevents overfitting \n",
    "# probably going to use this because EDA already chose important features \n",
    "\n",
    "#c model complexity \n",
    "#from 0.001 0.01 0.1 1 10 100 1000\n",
    "#search for optimal values to get most of our training data\n",
    "\n",
    "\n",
    "# sag or saga, liblinear if our data is sparse\n",
    "# trial an error it \n",
    "\n",
    "#max iter trial and error \n",
    "\n",
    "model = LogisticRegression(penalty='l2', C=1.0, solver='saga', max_iter=1000)\n",
    "\n",
    "\n",
    "model.fit(X_train, y_train)\n",
    "\n",
    "\n",
    "y_pred_train = model.predict(X_train)\n",
    "y_pred_test = model.predict(X_test)\n",
    "\n",
    "print(\"Accuracy on train data: \", accuracy_score(y_train, y_pred_train))\n",
    "print(\"Accuracy on test data: \", accuracy_score(y_test, y_pred_test))\n",
    "print(classification_report(y_test, y_pred_test))\n",
    "\n",
    "# we need to find people who have a bank account\n",
    "# people who have a bank account are true positive\n",
    "# false positives should be as few as possible\n",
    "# we want our precision and recall for predicted 1 to be as high as possible"
   ]
  },
  {
   "cell_type": "code",
   "execution_count": 29,
   "metadata": {},
   "outputs": [
    {
     "data": {
      "text/plain": [
       "<Axes: >"
      ]
     },
     "execution_count": 29,
     "metadata": {},
     "output_type": "execute_result"
    },
    {
     "data": {
      "image/png": "[encoded data removed]",
      "text/plain": [
       "<Figure size 640x480 with 2 Axes>"
      ]
     },
     "metadata": {},
     "output_type": "display_data"
    }
   ],
   "source": [
    "cmlog = confusion_matrix(y_test, y_pred_test)\n",
    "plt.figure()\n",
    "sns.heatmap(cmlog, annot=True, fmt=\"d\", linewidths=.5)"
   ]
  },
  {
   "cell_type": "code",
   "execution_count": 30,
   "metadata": {},
   "outputs": [
    {
     "data": {
      "text/html": [
       "<style>#sk-container-id-2 {color: black;background-color: white;}#sk-container-id-2 pre{padding: 0;}#sk-container-id-2 div.sk-toggleable {background-color: white;}#sk-container-id-2 label.sk-toggleable__label {cursor: pointer;display: block;width: 100%;margin-bottom: 0;padding: 0.3em;box-sizing: border-box;text-align: center;}#sk-container-id-2 label.sk-toggleable__label-arrow:before {content: \"▸\";float: left;margin-right: 0.25em;color: #696969;}#sk-container-id-2 label.sk-toggleable__label-arrow:hover:before {color: black;}#sk-container-id-2 div.sk-estimator:hover label.sk-toggleable__label-arrow:before {color: black;}#sk-container-id-2 div.sk-toggleable__content {max-height: 0;max-width: 0;overflow: hidden;text-align: left;background-color: #f0f8ff;}#sk-container-id-2 div.sk-toggleable__content pre {margin: 0.2em;color: black;border-radius: 0.25em;background-color: #f0f8ff;}#sk-container-id-2 input.sk-toggleable__control:checked~div.sk-toggleable__content {max-height: 200px;max-width: 100%;overflow: auto;}#sk-container-id-2 input.sk-toggleable__control:checked~label.sk-toggleable__label-arrow:before {content: \"▾\";}#sk-container-id-2 div.sk-estimator input.sk-toggleable__control:checked~label.sk-toggleable__label {background-color: #d4ebff;}#sk-container-id-2 div.sk-label input.sk-toggleable__control:checked~label.sk-toggleable__label {background-color: #d4ebff;}#sk-container-id-2 input.sk-hidden--visually {border: 0;clip: rect(1px 1px 1px 1px);clip: rect(1px, 1px, 1px, 1px);height: 1px;margin: -1px;overflow: hidden;padding: 0;position: absolute;width: 1px;}#sk-container-id-2 div.sk-estimator {font-family: monospace;background-color: #f0f8ff;border: 1px dotted black;border-radius: 0.25em;box-sizing: border-box;margin-bottom: 0.5em;}#sk-container-id-2 div.sk-estimator:hover {background-color: #d4ebff;}#sk-container-id-2 div.sk-parallel-item::after {content: \"\";width: 100%;border-bottom: 1px solid gray;flex-grow: 1;}#sk-container-id-2 div.sk-label:hover label.sk-toggleable__label {background-color: #d4ebff;}#sk-container-id-2 div.sk-serial::before {content: \"\";position: absolute;border-left: 1px solid gray;box-sizing: border-box;top: 0;bottom: 0;left: 50%;z-index: 0;}#sk-container-id-2 div.sk-serial {display: flex;flex-direction: column;align-items: center;background-color: white;padding-right: 0.2em;padding-left: 0.2em;position: relative;}#sk-container-id-2 div.sk-item {position: relative;z-index: 1;}#sk-container-id-2 div.sk-parallel {display: flex;align-items: stretch;justify-content: center;background-color: white;position: relative;}#sk-container-id-2 div.sk-item::before, #sk-container-id-2 div.sk-parallel-item::before {content: \"\";position: absolute;border-left: 1px solid gray;box-sizing: border-box;top: 0;bottom: 0;left: 50%;z-index: -1;}#sk-container-id-2 div.sk-parallel-item {display: flex;flex-direction: column;z-index: 1;position: relative;background-color: white;}#sk-container-id-2 div.sk-parallel-item:first-child::after {align-self: flex-end;width: 50%;}#sk-container-id-2 div.sk-parallel-item:last-child::after {align-self: flex-start;width: 50%;}#sk-container-id-2 div.sk-parallel-item:only-child::after {width: 0;}#sk-container-id-2 div.sk-dashed-wrapped {border: 1px dashed gray;margin: 0 0.4em 0.5em 0.4em;box-sizing: border-box;padding-bottom: 0.4em;background-color: white;}#sk-container-id-2 div.sk-label label {font-family: monospace;font-weight: bold;display: inline-block;line-height: 1.2em;}#sk-container-id-2 div.sk-label-container {text-align: center;}#sk-container-id-2 div.sk-container {/* jupyter's `normalize.less` sets `[hidden] { display: none; }` but bootstrap.min.css set `[hidden] { display: none !important; }` so we also need the `!important` here to be able to override the default hidden behavior on the sphinx rendered scikit-learn.org. See: https://github.com/scikit-learn/scikit-learn/issues/21755 */display: inline-block !important;position: relative;}#sk-container-id-2 div.sk-text-repr-fallback {display: none;}</style><div id=\"sk-container-id-2\" class=\"sk-top-container\"><div class=\"sk-text-repr-fallback\"><pre>RandomForestClassifier(random_state=42)</pre><b>In a Jupyter environment, please rerun this cell to show the HTML representation or trust the notebook. <br />On GitHub, the HTML representation is unable to render, please try loading this page with nbviewer.org.</b></div><div class=\"sk-container\" hidden><div class=\"sk-item\"><div class=\"sk-estimator sk-toggleable\"><input class=\"sk-toggleable__control sk-hidden--visually\" id=\"sk-estimator-id-2\" type=\"checkbox\" checked><label for=\"sk-estimator-id-2\" class=\"sk-toggleable__label sk-toggleable__label-arrow\">RandomForestClassifier</label><div class=\"sk-toggleable__content\"><pre>RandomForestClassifier(random_state=42)</pre></div></div></div></div></div>"
      ],
      "text/plain": [
       "RandomForestClassifier(random_state=42)"
      ]
     },
     "execution_count": 30,
     "metadata": {},
     "output_type": "execute_result"
    }
   ],
   "source": [
    "dtree = RandomForestClassifier(random_state = 42)\n",
    "dtree.fit(X_train, y_train)"
   ]
  },
  {
   "cell_type": "code",
   "execution_count": 31,
   "metadata": {},
   "outputs": [
    {
     "name": "stdout",
     "output_type": "stream",
     "text": [
      "Fitting 3 folds for each of 10 candidates, totalling 30 fits\n"
     ]
    },
    {
     "name": "stderr",
     "output_type": "stream",
     "text": [
      "/Users/riael/.pyenv/versions/3.11.3/lib/python3.11/site-packages/sklearn/ensemble/_forest.py:424: FutureWarning: `max_features='auto'` has been deprecated in 1.1 and will be removed in 1.3. To keep the past behaviour, explicitly set `max_features='sqrt'` or remove this parameter as it is also the default value for RandomForestClassifiers and ExtraTreesClassifiers.\n",
      "  warn(\n",
      "/Users/riael/.pyenv/versions/3.11.3/lib/python3.11/site-packages/sklearn/ensemble/_forest.py:424: FutureWarning: `max_features='auto'` has been deprecated in 1.1 and will be removed in 1.3. To keep the past behaviour, explicitly set `max_features='sqrt'` or remove this parameter as it is also the default value for RandomForestClassifiers and ExtraTreesClassifiers.\n",
      "  warn(\n",
      "/Users/riael/.pyenv/versions/3.11.3/lib/python3.11/site-packages/sklearn/ensemble/_forest.py:424: FutureWarning: `max_features='auto'` has been deprecated in 1.1 and will be removed in 1.3. To keep the past behaviour, explicitly set `max_features='sqrt'` or remove this parameter as it is also the default value for RandomForestClassifiers and ExtraTreesClassifiers.\n",
      "  warn(\n",
      "/Users/riael/.pyenv/versions/3.11.3/lib/python3.11/site-packages/sklearn/ensemble/_forest.py:424: FutureWarning: `max_features='auto'` has been deprecated in 1.1 and will be removed in 1.3. To keep the past behaviour, explicitly set `max_features='sqrt'` or remove this parameter as it is also the default value for RandomForestClassifiers and ExtraTreesClassifiers.\n",
      "  warn(\n",
      "/Users/riael/.pyenv/versions/3.11.3/lib/python3.11/site-packages/sklearn/ensemble/_forest.py:424: FutureWarning: `max_features='auto'` has been deprecated in 1.1 and will be removed in 1.3. To keep the past behaviour, explicitly set `max_features='sqrt'` or remove this parameter as it is also the default value for RandomForestClassifiers and ExtraTreesClassifiers.\n",
      "  warn(\n"
     ]
    },
    {
     "name": "stdout",
     "output_type": "stream",
     "text": [
      "[CV] END bootstrap=True, max_depth=3, max_features=auto, max_leaf_nodes=29, min_samples_split=5, n_estimators=103; total time=   0.4s\n",
      "[CV] END bootstrap=True, max_depth=3, max_features=auto, max_leaf_nodes=29, min_samples_split=5, n_estimators=103; total time=   0.4s\n",
      "[CV] END bootstrap=True, max_depth=3, max_features=auto, max_leaf_nodes=23, min_samples_split=2, n_estimators=154; total time=   0.5s\n"
     ]
    },
    {
     "name": "stderr",
     "output_type": "stream",
     "text": [
      "/Users/riael/.pyenv/versions/3.11.3/lib/python3.11/site-packages/sklearn/ensemble/_forest.py:424: FutureWarning: `max_features='auto'` has been deprecated in 1.1 and will be removed in 1.3. To keep the past behaviour, explicitly set `max_features='sqrt'` or remove this parameter as it is also the default value for RandomForestClassifiers and ExtraTreesClassifiers.\n",
      "  warn(\n"
     ]
    },
    {
     "name": "stdout",
     "output_type": "stream",
     "text": [
      "[CV] END bootstrap=True, max_depth=3, max_features=auto, max_leaf_nodes=23, min_samples_split=2, n_estimators=154; total time=   0.5s\n",
      "[CV] END bootstrap=True, max_depth=3, max_features=auto, max_leaf_nodes=23, min_samples_split=2, n_estimators=154; total time=   0.6s\n",
      "[CV] END bootstrap=True, max_depth=3, max_features=auto, max_leaf_nodes=29, min_samples_split=5, n_estimators=103; total time=   0.4s\n",
      "[CV] END bootstrap=True, max_depth=4, max_features=sqrt, max_leaf_nodes=24, min_samples_split=10, n_estimators=232; total time=   0.9s\n",
      "[CV] END bootstrap=True, max_depth=4, max_features=sqrt, max_leaf_nodes=24, min_samples_split=10, n_estimators=232; total time=   1.0s\n",
      "[CV] END bootstrap=True, max_depth=8, max_features=sqrt, max_leaf_nodes=29, min_samples_split=5, n_estimators=382; total time=   1.9s\n",
      "[CV] END bootstrap=True, max_depth=8, max_features=sqrt, max_leaf_nodes=29, min_samples_split=5, n_estimators=382; total time=   2.0s\n",
      "[CV] END bootstrap=True, max_depth=8, max_features=sqrt, max_leaf_nodes=29, min_samples_split=5, n_estimators=382; total time=   2.1s\n"
     ]
    },
    {
     "name": "stderr",
     "output_type": "stream",
     "text": [
      "/Users/riael/.pyenv/versions/3.11.3/lib/python3.11/site-packages/sklearn/ensemble/_forest.py:424: FutureWarning: `max_features='auto'` has been deprecated in 1.1 and will be removed in 1.3. To keep the past behaviour, explicitly set `max_features='sqrt'` or remove this parameter as it is also the default value for RandomForestClassifiers and ExtraTreesClassifiers.\n",
      "  warn(\n"
     ]
    },
    {
     "name": "stdout",
     "output_type": "stream",
     "text": [
      "[CV] END bootstrap=True, max_depth=4, max_features=sqrt, max_leaf_nodes=24, min_samples_split=10, n_estimators=232; total time=   0.8s\n"
     ]
    },
    {
     "name": "stderr",
     "output_type": "stream",
     "text": [
      "/Users/riael/.pyenv/versions/3.11.3/lib/python3.11/site-packages/sklearn/ensemble/_forest.py:424: FutureWarning: `max_features='auto'` has been deprecated in 1.1 and will be removed in 1.3. To keep the past behaviour, explicitly set `max_features='sqrt'` or remove this parameter as it is also the default value for RandomForestClassifiers and ExtraTreesClassifiers.\n",
      "  warn(\n"
     ]
    },
    {
     "name": "stdout",
     "output_type": "stream",
     "text": [
      "[CV] END bootstrap=True, max_depth=3, max_features=auto, max_leaf_nodes=15, min_samples_split=10, n_estimators=494; total time=   1.7s\n"
     ]
    },
    {
     "name": "stderr",
     "output_type": "stream",
     "text": [
      "/Users/riael/.pyenv/versions/3.11.3/lib/python3.11/site-packages/sklearn/ensemble/_forest.py:424: FutureWarning: `max_features='auto'` has been deprecated in 1.1 and will be removed in 1.3. To keep the past behaviour, explicitly set `max_features='sqrt'` or remove this parameter as it is also the default value for RandomForestClassifiers and ExtraTreesClassifiers.\n",
      "  warn(\n"
     ]
    },
    {
     "name": "stdout",
     "output_type": "stream",
     "text": [
      "[CV] END bootstrap=True, max_depth=3, max_features=auto, max_leaf_nodes=15, min_samples_split=10, n_estimators=494; total time=   1.6s\n",
      "[CV] END bootstrap=False, max_depth=6, max_features=None, max_leaf_nodes=30, min_samples_split=15, n_estimators=187; total time=   3.8s\n"
     ]
    },
    {
     "name": "stderr",
     "output_type": "stream",
     "text": [
      "/Users/riael/.pyenv/versions/3.11.3/lib/python3.11/site-packages/sklearn/ensemble/_forest.py:424: FutureWarning: `max_features='auto'` has been deprecated in 1.1 and will be removed in 1.3. To keep the past behaviour, explicitly set `max_features='sqrt'` or remove this parameter as it is also the default value for RandomForestClassifiers and ExtraTreesClassifiers.\n",
      "  warn(\n",
      "/Users/riael/.pyenv/versions/3.11.3/lib/python3.11/site-packages/sklearn/ensemble/_forest.py:424: FutureWarning: `max_features='auto'` has been deprecated in 1.1 and will be removed in 1.3. To keep the past behaviour, explicitly set `max_features='sqrt'` or remove this parameter as it is also the default value for RandomForestClassifiers and ExtraTreesClassifiers.\n",
      "  warn(\n"
     ]
    },
    {
     "name": "stdout",
     "output_type": "stream",
     "text": [
      "[CV] END bootstrap=False, max_depth=6, max_features=None, max_leaf_nodes=30, min_samples_split=15, n_estimators=187; total time=   3.8s\n"
     ]
    },
    {
     "name": "stderr",
     "output_type": "stream",
     "text": [
      "/Users/riael/.pyenv/versions/3.11.3/lib/python3.11/site-packages/sklearn/ensemble/_forest.py:424: FutureWarning: `max_features='auto'` has been deprecated in 1.1 and will be removed in 1.3. To keep the past behaviour, explicitly set `max_features='sqrt'` or remove this parameter as it is also the default value for RandomForestClassifiers and ExtraTreesClassifiers.\n",
      "  warn(\n"
     ]
    },
    {
     "name": "stdout",
     "output_type": "stream",
     "text": [
      "[CV] END bootstrap=False, max_depth=6, max_features=None, max_leaf_nodes=30, min_samples_split=15, n_estimators=187; total time=   4.1s\n",
      "[CV] END bootstrap=True, max_depth=3, max_features=auto, max_leaf_nodes=15, min_samples_split=10, n_estimators=494; total time=   1.5s\n",
      "[CV] END bootstrap=True, max_depth=9, max_features=auto, max_leaf_nodes=25, min_samples_split=5, n_estimators=455; total time=   2.1s\n",
      "[CV] END bootstrap=True, max_depth=9, max_features=auto, max_leaf_nodes=25, min_samples_split=5, n_estimators=455; total time=   2.2s\n",
      "[CV] END bootstrap=False, max_depth=9, max_features=None, max_leaf_nodes=15, min_samples_split=5, n_estimators=222; total time=   4.9s\n",
      "[CV] END bootstrap=True, max_depth=9, max_features=auto, max_leaf_nodes=25, min_samples_split=5, n_estimators=455; total time=   2.3s\n",
      "[CV] END bootstrap=False, max_depth=9, max_features=None, max_leaf_nodes=15, min_samples_split=5, n_estimators=222; total time=   4.9s\n",
      "[CV] END bootstrap=True, max_depth=3, max_features=sqrt, max_leaf_nodes=11, min_samples_split=10, n_estimators=295; total time=   0.9s\n",
      "[CV] END bootstrap=True, max_depth=3, max_features=sqrt, max_leaf_nodes=11, min_samples_split=10, n_estimators=295; total time=   0.9s\n",
      "[CV] END bootstrap=True, max_depth=3, max_features=sqrt, max_leaf_nodes=11, min_samples_split=10, n_estimators=295; total time=   0.8s\n",
      "[CV] END bootstrap=False, max_depth=9, max_features=None, max_leaf_nodes=15, min_samples_split=5, n_estimators=222; total time=   5.5s\n",
      "[CV] END bootstrap=False, max_depth=3, max_features=None, max_leaf_nodes=25, min_samples_split=15, n_estimators=411; total time=   3.9s\n",
      "[CV] END bootstrap=False, max_depth=3, max_features=None, max_leaf_nodes=25, min_samples_split=15, n_estimators=411; total time=   3.6s\n",
      "[CV] END bootstrap=False, max_depth=3, max_features=None, max_leaf_nodes=25, min_samples_split=15, n_estimators=411; total time=   3.4s\n",
      "Accuracy on train data:  0.884319039268824\n",
      "Accuracy on test data:  0.881615302869288\n",
      "              precision    recall  f1-score   support\n",
      "\n",
      "           0       0.89      0.98      0.93      4043\n",
      "           1       0.71      0.27      0.39       662\n",
      "\n",
      "    accuracy                           0.88      4705\n",
      "   macro avg       0.80      0.63      0.66      4705\n",
      "weighted avg       0.87      0.88      0.86      4705\n",
      "\n"
     ]
    }
   ],
   "source": [
    "param_grid = {\n",
    "    'n_estimators': np.arange(100, 501).astype(int),  # amount of trees, more trees more accuracy\n",
    "    'max_depth': [None] + list(np.arange(3, 11).astype(int)),  # maximum depth of each trees, overfitting if too high\n",
    "    'max_features': ['auto', 'sqrt', None],  # amount of features considered per split\n",
    "    'max_leaf_nodes': list(np.arange(10, 31).astype(int)),  # maximum number of end nodes\n",
    "    'min_samples_split': [2, 5, 10, 15],  # minimum samples required to split a node\n",
    "    'bootstrap': [True, False]  # whether we bootstrap or not \n",
    "}\n",
    "\n",
    "#f1_macro should be better for imbalanced but chck roc_auc too\n",
    "rs = RandomizedSearchCV(dtree, param_grid, n_jobs = -1, scoring=\"f1_macro\", cv=3, n_iter = 10, verbose=2, random_state = 42)\n",
    "\n",
    "rs.fit(X_train, y_train)\n",
    "\n",
    "best_params = rs.best_params_\n",
    "\n",
    "best_model = rs.best_estimator_\n",
    "\n",
    "train_rs_predictions = best_model.predict(X_train)\n",
    "test_rs_predictions = best_model.predict(X_test)\n",
    "\n",
    "print(\"Accuracy on train data: \", accuracy_score(y_train, train_rs_predictions))\n",
    "print(\"Accuracy on test data: \", accuracy_score(y_test, test_rs_predictions))\n",
    "print(classification_report(y_test, test_rs_predictions))\n",
    "\n",
    "#can look for further better parameters but most of performance has to come from oevrsampling/undersampling\n"
   ]
  },
  {
   "cell_type": "code",
   "execution_count": 33,
   "metadata": {},
   "outputs": [
    {
     "ename": "TypeError",
     "evalue": "compute_class_weight() takes 1 positional argument but 3 were given",
     "output_type": "error",
     "traceback": [
      "\u001b[0;31m---------------------------------------------------------------------------\u001b[0m",
      "\u001b[0;31mTypeError\u001b[0m                                 Traceback (most recent call last)",
      "Cell \u001b[0;32mIn[33], line 2\u001b[0m\n\u001b[1;32m      1\u001b[0m \u001b[38;5;28;01mfrom\u001b[39;00m \u001b[38;5;21;01msklearn\u001b[39;00m\u001b[38;5;21;01m.\u001b[39;00m\u001b[38;5;21;01mutils\u001b[39;00m\u001b[38;5;21;01m.\u001b[39;00m\u001b[38;5;21;01mclass_weight\u001b[39;00m \u001b[38;5;28;01mimport\u001b[39;00m compute_class_weight\n\u001b[0;32m----> 2\u001b[0m class_weights \u001b[38;5;241m=\u001b[39m \u001b[43mcompute_class_weight\u001b[49m\u001b[43m(\u001b[49m\u001b[38;5;124;43m'\u001b[39;49m\u001b[38;5;124;43mbalanced\u001b[39;49m\u001b[38;5;124;43m'\u001b[39;49m\u001b[43m,\u001b[49m\u001b[43m \u001b[49m\u001b[43mnp\u001b[49m\u001b[38;5;241;43m.\u001b[39;49m\u001b[43munique\u001b[49m\u001b[43m(\u001b[49m\u001b[43my_train\u001b[49m\u001b[43m)\u001b[49m\u001b[43m,\u001b[49m\u001b[43m \u001b[49m\u001b[43my_train\u001b[49m\u001b[43m)\u001b[49m\n\u001b[1;32m      4\u001b[0m weighted_model \u001b[38;5;241m=\u001b[39m LogisticRegression(penalty\u001b[38;5;241m=\u001b[39m\u001b[38;5;124m'\u001b[39m\u001b[38;5;124ml2\u001b[39m\u001b[38;5;124m'\u001b[39m, C\u001b[38;5;241m=\u001b[39m\u001b[38;5;241m1.0\u001b[39m, solver\u001b[38;5;241m=\u001b[39m\u001b[38;5;124m'\u001b[39m\u001b[38;5;124msaga\u001b[39m\u001b[38;5;124m'\u001b[39m, max_iter\u001b[38;5;241m=\u001b[39m\u001b[38;5;241m1000\u001b[39m, class_weight\u001b[38;5;241m=\u001b[39mclass_weights)\n\u001b[1;32m      6\u001b[0m param_grid \u001b[38;5;241m=\u001b[39m {\n\u001b[1;32m      7\u001b[0m     \u001b[38;5;124m'\u001b[39m\u001b[38;5;124mn_estimators\u001b[39m\u001b[38;5;124m'\u001b[39m: np\u001b[38;5;241m.\u001b[39marange(\u001b[38;5;241m100\u001b[39m, \u001b[38;5;241m501\u001b[39m)\u001b[38;5;241m.\u001b[39mastype(\u001b[38;5;28mint\u001b[39m),  \u001b[38;5;66;03m# amount of trees, more trees more accuracy\u001b[39;00m\n\u001b[1;32m      8\u001b[0m     \u001b[38;5;124m'\u001b[39m\u001b[38;5;124mmax_depth\u001b[39m\u001b[38;5;124m'\u001b[39m: [\u001b[38;5;28;01mNone\u001b[39;00m] \u001b[38;5;241m+\u001b[39m \u001b[38;5;28mlist\u001b[39m(np\u001b[38;5;241m.\u001b[39marange(\u001b[38;5;241m3\u001b[39m, \u001b[38;5;241m11\u001b[39m)\u001b[38;5;241m.\u001b[39mastype(\u001b[38;5;28mint\u001b[39m)),  \u001b[38;5;66;03m# maximum depth of each trees, overfitting if too high\u001b[39;00m\n\u001b[0;32m   (...)\u001b[0m\n\u001b[1;32m     12\u001b[0m     \u001b[38;5;124m'\u001b[39m\u001b[38;5;124mbootstrap\u001b[39m\u001b[38;5;124m'\u001b[39m: [\u001b[38;5;28;01mTrue\u001b[39;00m, \u001b[38;5;28;01mFalse\u001b[39;00m]  \u001b[38;5;66;03m# whether we bootstrap or not \u001b[39;00m\n\u001b[1;32m     13\u001b[0m }\n",
      "\u001b[0;31mTypeError\u001b[0m: compute_class_weight() takes 1 positional argument but 3 were given"
     ]
    }
   ],
   "source": [
    "from sklearn.utils.class_weight import compute_class_weight\n",
    "class_weights = compute_class_weight('balanced', classes=np.unique(y), y=y)\n",
    "\n",
    "weighted_model = LogisticRegression(penalty='l2', C=1.0, solver='saga', max_iter=1000, class_weight=class_weights)\n",
    "\n",
    "param_grid = {\n",
    "    'n_estimators': np.arange(100, 501).astype(int),  # amount of trees, more trees more accuracy\n",
    "    'max_depth': [None] + list(np.arange(3, 11).astype(int)),  # maximum depth of each trees, overfitting if too high\n",
    "    'max_features': ['auto', 'sqrt', None],  # amount of features considered per split\n",
    "    'max_leaf_nodes': list(np.arange(10, 31).astype(int)),  # maximum number of end nodes\n",
    "    'min_samples_split': [2, 5, 10, 15],  # minimum samples required to split a node\n",
    "    'bootstrap': [True, False]  # whether we bootstrap or not \n",
    "}\n",
    "\n",
    "weighted_search = RandomizedSearchCV(weighted_model, param_grid, n_jobs = -1, scoring=\"f1_macro\", cv=3, n_iter = 10, verbose=2, random_state = 42)\n",
    "weighted_search.fit(X_train, y_train)\n",
    "\n",
    "weighted_best_params = weighted_search.best_params_\n",
    "\n",
    "weighted_best_model = weighted_search.best_estimator_\n",
    "\n",
    "weighted_train_rs_predictions = weighted_best_model.predict(X_train)\n",
    "weighted_test_rs_predictions = weighted_best_model.predict(X_test)\n",
    "\n",
    "print(\"Accuracy on train data: \", accuracy_score(y_train, weighted_train_rs_predictions))\n",
    "print(\"Accuracy on test data: \", accuracy_score(y_test, weighted_test_rs_predictions))\n",
    "print(classification_report(y_test, weighted_test_rs_predictions))\n"
   ]
  },
  {
   "cell_type": "code",
   "execution_count": null,
   "metadata": {},
   "outputs": [],
   "source": [
    "#can also try xgboost"
   ]
  }
 ],
 "metadata": {
  "kernelspec": {
   "display_name": "Python 3",
   "language": "python",
   "name": "python3"
  },
  "language_info": {
   "codemirror_mode": {
    "name": "ipython",
    "version": 3
   },
   "file_extension": ".py",
   "mimetype": "text/x-python",
   "name": "python",
   "nbconvert_exporter": "python",
   "pygments_lexer": "ipython3",
   "version": "3.11.3"
  }
 },
 "nbformat": 4,
 "nbformat_minor": 4
}
